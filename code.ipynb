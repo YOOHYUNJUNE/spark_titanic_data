{
 "cells": [
  {
   "cell_type": "markdown",
   "id": "ecfd3435",
   "metadata": {},
   "source": [
    "# 스파크로 타이타닉 데이터 다루기"
   ]
  },
  {
   "cell_type": "code",
   "execution_count": 2,
   "id": "a8d3d225-d198-4675-99eb-2b240fbfacf4",
   "metadata": {},
   "outputs": [
    {
     "name": "stdout",
     "output_type": "stream",
     "text": [
      "Requirement already satisfied: sparkmagic in c:\\users\\rnlay\\appdata\\local\\programs\\python\\python311\\lib\\site-packages (0.21.0)\n",
      "Requirement already satisfied: hdijupyterutils>=0.6 in c:\\users\\rnlay\\appdata\\local\\programs\\python\\python311\\lib\\site-packages (from sparkmagic) (0.21.0)\n",
      "Requirement already satisfied: autovizwidget>=0.6 in c:\\users\\rnlay\\appdata\\local\\programs\\python\\python311\\lib\\site-packages (from sparkmagic) (0.21.0)\n",
      "Requirement already satisfied: ipython>=4.0.2 in c:\\users\\rnlay\\appdata\\local\\programs\\python\\python311\\lib\\site-packages (from sparkmagic) (8.14.0)\n",
      "Requirement already satisfied: pandas<2.0.0,>=0.17.1 in c:\\users\\rnlay\\appdata\\local\\programs\\python\\python311\\lib\\site-packages (from sparkmagic) (1.5.3)\n",
      "Requirement already satisfied: numpy in c:\\users\\rnlay\\appdata\\local\\programs\\python\\python311\\lib\\site-packages (from sparkmagic) (1.26.3)\n",
      "Requirement already satisfied: requests in c:\\users\\rnlay\\appdata\\local\\programs\\python\\python311\\lib\\site-packages (from sparkmagic) (2.31.0)\n",
      "Requirement already satisfied: ipykernel>=4.2.2 in c:\\users\\rnlay\\appdata\\local\\programs\\python\\python311\\lib\\site-packages (from sparkmagic) (6.25.0)\n",
      "Requirement already satisfied: ipywidgets>5.0.0 in c:\\users\\rnlay\\appdata\\local\\programs\\python\\python311\\lib\\site-packages (from sparkmagic) (8.1.0)\n",
      "Requirement already satisfied: notebook>=4.2 in c:\\users\\rnlay\\appdata\\local\\programs\\python\\python311\\lib\\site-packages (from sparkmagic) (7.0.2)\n",
      "Requirement already satisfied: tornado>=4 in c:\\users\\rnlay\\appdata\\local\\programs\\python\\python311\\lib\\site-packages (from sparkmagic) (6.3.2)\n",
      "Requirement already satisfied: requests-kerberos>=0.8.0 in c:\\users\\rnlay\\appdata\\local\\programs\\python\\python311\\lib\\site-packages (from sparkmagic) (0.14.0)\n",
      "Requirement already satisfied: nest-asyncio>1.5.5 in c:\\users\\rnlay\\appdata\\local\\programs\\python\\python311\\lib\\site-packages (from sparkmagic) (1.5.6)\n",
      "Requirement already satisfied: plotly>=3 in c:\\users\\rnlay\\appdata\\local\\programs\\python\\python311\\lib\\site-packages (from autovizwidget>=0.6->sparkmagic) (5.15.0)\n",
      "Requirement already satisfied: jupyter>=1 in c:\\users\\rnlay\\appdata\\local\\programs\\python\\python311\\lib\\site-packages (from hdijupyterutils>=0.6->sparkmagic) (1.0.0)\n",
      "Requirement already satisfied: comm>=0.1.1 in c:\\users\\rnlay\\appdata\\local\\programs\\python\\python311\\lib\\site-packages (from ipykernel>=4.2.2->sparkmagic) (0.1.3)\n",
      "Requirement already satisfied: debugpy>=1.6.5 in c:\\users\\rnlay\\appdata\\local\\programs\\python\\python311\\lib\\site-packages (from ipykernel>=4.2.2->sparkmagic) (1.6.7)\n",
      "Requirement already satisfied: jupyter-client>=6.1.12 in c:\\users\\rnlay\\appdata\\local\\programs\\python\\python311\\lib\\site-packages (from ipykernel>=4.2.2->sparkmagic) (8.3.0)\n",
      "Requirement already satisfied: jupyter-core!=5.0.*,>=4.12 in c:\\users\\rnlay\\appdata\\local\\programs\\python\\python311\\lib\\site-packages (from ipykernel>=4.2.2->sparkmagic) (5.3.1)\n",
      "Requirement already satisfied: matplotlib-inline>=0.1 in c:\\users\\rnlay\\appdata\\local\\programs\\python\\python311\\lib\\site-packages (from ipykernel>=4.2.2->sparkmagic) (0.1.6)\n",
      "Requirement already satisfied: packaging in c:\\users\\rnlay\\appdata\\local\\programs\\python\\python311\\lib\\site-packages (from ipykernel>=4.2.2->sparkmagic) (23.1)\n",
      "Requirement already satisfied: psutil in c:\\users\\rnlay\\appdata\\local\\programs\\python\\python311\\lib\\site-packages (from ipykernel>=4.2.2->sparkmagic) (5.9.5)\n",
      "Requirement already satisfied: pyzmq>=20 in c:\\users\\rnlay\\appdata\\local\\programs\\python\\python311\\lib\\site-packages (from ipykernel>=4.2.2->sparkmagic) (25.1.0)\n",
      "Requirement already satisfied: traitlets>=5.4.0 in c:\\users\\rnlay\\appdata\\local\\programs\\python\\python311\\lib\\site-packages (from ipykernel>=4.2.2->sparkmagic) (5.9.0)\n",
      "Requirement already satisfied: backcall in c:\\users\\rnlay\\appdata\\local\\programs\\python\\python311\\lib\\site-packages (from ipython>=4.0.2->sparkmagic) (0.2.0)\n",
      "Requirement already satisfied: decorator in c:\\users\\rnlay\\appdata\\local\\programs\\python\\python311\\lib\\site-packages (from ipython>=4.0.2->sparkmagic) (4.4.2)\n",
      "Requirement already satisfied: jedi>=0.16 in c:\\users\\rnlay\\appdata\\local\\programs\\python\\python311\\lib\\site-packages (from ipython>=4.0.2->sparkmagic) (0.18.2)\n",
      "Requirement already satisfied: pickleshare in c:\\users\\rnlay\\appdata\\local\\programs\\python\\python311\\lib\\site-packages (from ipython>=4.0.2->sparkmagic) (0.7.5)\n",
      "Requirement already satisfied: prompt-toolkit!=3.0.37,<3.1.0,>=3.0.30 in c:\\users\\rnlay\\appdata\\local\\programs\\python\\python311\\lib\\site-packages (from ipython>=4.0.2->sparkmagic) (3.0.39)\n",
      "Requirement already satisfied: pygments>=2.4.0 in c:\\users\\rnlay\\appdata\\local\\programs\\python\\python311\\lib\\site-packages (from ipython>=4.0.2->sparkmagic) (2.15.1)\n",
      "Requirement already satisfied: stack-data in c:\\users\\rnlay\\appdata\\local\\programs\\python\\python311\\lib\\site-packages (from ipython>=4.0.2->sparkmagic) (0.6.2)\n",
      "Requirement already satisfied: colorama in c:\\users\\rnlay\\appdata\\local\\programs\\python\\python311\\lib\\site-packages (from ipython>=4.0.2->sparkmagic) (0.4.6)\n",
      "Requirement already satisfied: widgetsnbextension~=4.0.7 in c:\\users\\rnlay\\appdata\\local\\programs\\python\\python311\\lib\\site-packages (from ipywidgets>5.0.0->sparkmagic) (4.0.8)\n",
      "Requirement already satisfied: jupyterlab-widgets~=3.0.7 in c:\\users\\rnlay\\appdata\\local\\programs\\python\\python311\\lib\\site-packages (from ipywidgets>5.0.0->sparkmagic) (3.0.8)\n",
      "Requirement already satisfied: jupyter-server<3,>=2.4.0 in c:\\users\\rnlay\\appdata\\local\\programs\\python\\python311\\lib\\site-packages (from notebook>=4.2->sparkmagic) (2.7.0)\n",
      "Requirement already satisfied: jupyterlab-server<3,>=2.22.1 in c:\\users\\rnlay\\appdata\\local\\programs\\python\\python311\\lib\\site-packages (from notebook>=4.2->sparkmagic) (2.24.0)\n",
      "Requirement already satisfied: jupyterlab<5,>=4.0.2 in c:\\users\\rnlay\\appdata\\local\\programs\\python\\python311\\lib\\site-packages (from notebook>=4.2->sparkmagic) (4.0.3)\n",
      "Requirement already satisfied: notebook-shim<0.3,>=0.2 in c:\\users\\rnlay\\appdata\\local\\programs\\python\\python311\\lib\\site-packages (from notebook>=4.2->sparkmagic) (0.2.3)\n",
      "Requirement already satisfied: python-dateutil>=2.8.1 in c:\\users\\rnlay\\appdata\\local\\programs\\python\\python311\\lib\\site-packages (from pandas<2.0.0,>=0.17.1->sparkmagic) (2.8.2)\n",
      "Requirement already satisfied: pytz>=2020.1 in c:\\users\\rnlay\\appdata\\local\\programs\\python\\python311\\lib\\site-packages (from pandas<2.0.0,>=0.17.1->sparkmagic) (2023.3)\n",
      "Requirement already satisfied: cryptography>=1.3 in c:\\users\\rnlay\\appdata\\local\\programs\\python\\python311\\lib\\site-packages (from requests-kerberos>=0.8.0->sparkmagic) (41.0.7)\n",
      "Requirement already satisfied: pyspnego[kerberos] in c:\\users\\rnlay\\appdata\\local\\programs\\python\\python311\\lib\\site-packages (from requests-kerberos>=0.8.0->sparkmagic) (0.10.2)\n",
      "Requirement already satisfied: charset-normalizer<4,>=2 in c:\\users\\rnlay\\appdata\\local\\programs\\python\\python311\\lib\\site-packages (from requests->sparkmagic) (3.2.0)\n",
      "Requirement already satisfied: idna<4,>=2.5 in c:\\users\\rnlay\\appdata\\local\\programs\\python\\python311\\lib\\site-packages (from requests->sparkmagic) (3.4)\n",
      "Requirement already satisfied: urllib3<3,>=1.21.1 in c:\\users\\rnlay\\appdata\\local\\programs\\python\\python311\\lib\\site-packages (from requests->sparkmagic) (2.0.4)\n",
      "Requirement already satisfied: certifi>=2017.4.17 in c:\\users\\rnlay\\appdata\\local\\programs\\python\\python311\\lib\\site-packages (from requests->sparkmagic) (2023.7.22)\n",
      "Requirement already satisfied: cffi>=1.12 in c:\\users\\rnlay\\appdata\\local\\programs\\python\\python311\\lib\\site-packages (from cryptography>=1.3->requests-kerberos>=0.8.0->sparkmagic) (1.15.1)\n",
      "Requirement already satisfied: parso<0.9.0,>=0.8.0 in c:\\users\\rnlay\\appdata\\local\\programs\\python\\python311\\lib\\site-packages (from jedi>=0.16->ipython>=4.0.2->sparkmagic) (0.8.3)\n",
      "Requirement already satisfied: qtconsole in c:\\users\\rnlay\\appdata\\local\\programs\\python\\python311\\lib\\site-packages (from jupyter>=1->hdijupyterutils>=0.6->sparkmagic) (5.4.3)\n",
      "Requirement already satisfied: jupyter-console in c:\\users\\rnlay\\appdata\\local\\programs\\python\\python311\\lib\\site-packages (from jupyter>=1->hdijupyterutils>=0.6->sparkmagic) (6.6.3)\n",
      "Requirement already satisfied: nbconvert in c:\\users\\rnlay\\appdata\\local\\programs\\python\\python311\\lib\\site-packages (from jupyter>=1->hdijupyterutils>=0.6->sparkmagic) (7.7.3)\n",
      "Requirement already satisfied: platformdirs>=2.5 in c:\\users\\rnlay\\appdata\\local\\programs\\python\\python311\\lib\\site-packages (from jupyter-core!=5.0.*,>=4.12->ipykernel>=4.2.2->sparkmagic) (3.9.1)\n",
      "Requirement already satisfied: pywin32>=300 in c:\\users\\rnlay\\appdata\\local\\programs\\python\\python311\\lib\\site-packages (from jupyter-core!=5.0.*,>=4.12->ipykernel>=4.2.2->sparkmagic) (306)\n",
      "Requirement already satisfied: anyio>=3.1.0 in c:\\users\\rnlay\\appdata\\local\\programs\\python\\python311\\lib\\site-packages (from jupyter-server<3,>=2.4.0->notebook>=4.2->sparkmagic) (3.7.1)\n",
      "Requirement already satisfied: argon2-cffi in c:\\users\\rnlay\\appdata\\local\\programs\\python\\python311\\lib\\site-packages (from jupyter-server<3,>=2.4.0->notebook>=4.2->sparkmagic) (21.3.0)\n",
      "Requirement already satisfied: jinja2 in c:\\users\\rnlay\\appdata\\local\\programs\\python\\python311\\lib\\site-packages (from jupyter-server<3,>=2.4.0->notebook>=4.2->sparkmagic) (3.1.2)\n",
      "Requirement already satisfied: jupyter-events>=0.6.0 in c:\\users\\rnlay\\appdata\\local\\programs\\python\\python311\\lib\\site-packages (from jupyter-server<3,>=2.4.0->notebook>=4.2->sparkmagic) (0.6.3)\n",
      "Requirement already satisfied: jupyter-server-terminals in c:\\users\\rnlay\\appdata\\local\\programs\\python\\python311\\lib\\site-packages (from jupyter-server<3,>=2.4.0->notebook>=4.2->sparkmagic) (0.4.4)\n",
      "Requirement already satisfied: nbformat>=5.3.0 in c:\\users\\rnlay\\appdata\\local\\programs\\python\\python311\\lib\\site-packages (from jupyter-server<3,>=2.4.0->notebook>=4.2->sparkmagic) (5.9.1)\n",
      "Requirement already satisfied: overrides in c:\\users\\rnlay\\appdata\\local\\programs\\python\\python311\\lib\\site-packages (from jupyter-server<3,>=2.4.0->notebook>=4.2->sparkmagic) (7.3.1)\n",
      "Requirement already satisfied: prometheus-client in c:\\users\\rnlay\\appdata\\local\\programs\\python\\python311\\lib\\site-packages (from jupyter-server<3,>=2.4.0->notebook>=4.2->sparkmagic) (0.17.1)\n",
      "Requirement already satisfied: pywinpty in c:\\users\\rnlay\\appdata\\local\\programs\\python\\python311\\lib\\site-packages (from jupyter-server<3,>=2.4.0->notebook>=4.2->sparkmagic) (2.0.11)\n",
      "Requirement already satisfied: send2trash in c:\\users\\rnlay\\appdata\\local\\programs\\python\\python311\\lib\\site-packages (from jupyter-server<3,>=2.4.0->notebook>=4.2->sparkmagic) (1.8.2)\n",
      "Requirement already satisfied: terminado>=0.8.3 in c:\\users\\rnlay\\appdata\\local\\programs\\python\\python311\\lib\\site-packages (from jupyter-server<3,>=2.4.0->notebook>=4.2->sparkmagic) (0.17.1)\n",
      "Requirement already satisfied: websocket-client in c:\\users\\rnlay\\appdata\\local\\programs\\python\\python311\\lib\\site-packages (from jupyter-server<3,>=2.4.0->notebook>=4.2->sparkmagic) (1.6.1)\n",
      "Requirement already satisfied: async-lru>=1.0.0 in c:\\users\\rnlay\\appdata\\local\\programs\\python\\python311\\lib\\site-packages (from jupyterlab<5,>=4.0.2->notebook>=4.2->sparkmagic) (2.0.3)\n",
      "Requirement already satisfied: jupyter-lsp>=2.0.0 in c:\\users\\rnlay\\appdata\\local\\programs\\python\\python311\\lib\\site-packages (from jupyterlab<5,>=4.0.2->notebook>=4.2->sparkmagic) (2.2.0)\n",
      "Requirement already satisfied: babel>=2.10 in c:\\users\\rnlay\\appdata\\local\\programs\\python\\python311\\lib\\site-packages (from jupyterlab-server<3,>=2.22.1->notebook>=4.2->sparkmagic) (2.12.1)\n",
      "Requirement already satisfied: json5>=0.9.0 in c:\\users\\rnlay\\appdata\\local\\programs\\python\\python311\\lib\\site-packages (from jupyterlab-server<3,>=2.22.1->notebook>=4.2->sparkmagic) (0.9.14)\n",
      "Requirement already satisfied: jsonschema>=4.17.3 in c:\\users\\rnlay\\appdata\\local\\programs\\python\\python311\\lib\\site-packages (from jupyterlab-server<3,>=2.22.1->notebook>=4.2->sparkmagic) (4.18.4)\n",
      "Requirement already satisfied: tenacity>=6.2.0 in c:\\users\\rnlay\\appdata\\local\\programs\\python\\python311\\lib\\site-packages (from plotly>=3->autovizwidget>=0.6->sparkmagic) (8.2.2)\n",
      "Requirement already satisfied: wcwidth in c:\\users\\rnlay\\appdata\\local\\programs\\python\\python311\\lib\\site-packages (from prompt-toolkit!=3.0.37,<3.1.0,>=3.0.30->ipython>=4.0.2->sparkmagic) (0.2.6)\n",
      "Requirement already satisfied: six>=1.5 in c:\\users\\rnlay\\appdata\\local\\programs\\python\\python311\\lib\\site-packages (from python-dateutil>=2.8.1->pandas<2.0.0,>=0.17.1->sparkmagic) (1.16.0)\n",
      "Requirement already satisfied: sspilib>=0.1.0 in c:\\users\\rnlay\\appdata\\local\\programs\\python\\python311\\lib\\site-packages (from pyspnego[kerberos]->requests-kerberos>=0.8.0->sparkmagic) (0.1.0)\n",
      "Requirement already satisfied: executing>=1.2.0 in c:\\users\\rnlay\\appdata\\local\\programs\\python\\python311\\lib\\site-packages (from stack-data->ipython>=4.0.2->sparkmagic) (1.2.0)\n",
      "Requirement already satisfied: asttokens>=2.1.0 in c:\\users\\rnlay\\appdata\\local\\programs\\python\\python311\\lib\\site-packages (from stack-data->ipython>=4.0.2->sparkmagic) (2.2.1)\n",
      "Requirement already satisfied: pure-eval in c:\\users\\rnlay\\appdata\\local\\programs\\python\\python311\\lib\\site-packages (from stack-data->ipython>=4.0.2->sparkmagic) (0.2.2)\n",
      "Requirement already satisfied: sniffio>=1.1 in c:\\users\\rnlay\\appdata\\local\\programs\\python\\python311\\lib\\site-packages (from anyio>=3.1.0->jupyter-server<3,>=2.4.0->notebook>=4.2->sparkmagic) (1.3.0)\n",
      "Requirement already satisfied: pycparser in c:\\users\\rnlay\\appdata\\local\\programs\\python\\python311\\lib\\site-packages (from cffi>=1.12->cryptography>=1.3->requests-kerberos>=0.8.0->sparkmagic) (2.21)\n",
      "Requirement already satisfied: MarkupSafe>=2.0 in c:\\users\\rnlay\\appdata\\local\\programs\\python\\python311\\lib\\site-packages (from jinja2->jupyter-server<3,>=2.4.0->notebook>=4.2->sparkmagic) (2.1.3)\n",
      "Requirement already satisfied: attrs>=22.2.0 in c:\\users\\rnlay\\appdata\\local\\programs\\python\\python311\\lib\\site-packages (from jsonschema>=4.17.3->jupyterlab-server<3,>=2.22.1->notebook>=4.2->sparkmagic) (23.1.0)\n",
      "Requirement already satisfied: jsonschema-specifications>=2023.03.6 in c:\\users\\rnlay\\appdata\\local\\programs\\python\\python311\\lib\\site-packages (from jsonschema>=4.17.3->jupyterlab-server<3,>=2.22.1->notebook>=4.2->sparkmagic) (2023.7.1)\n",
      "Requirement already satisfied: referencing>=0.28.4 in c:\\users\\rnlay\\appdata\\local\\programs\\python\\python311\\lib\\site-packages (from jsonschema>=4.17.3->jupyterlab-server<3,>=2.22.1->notebook>=4.2->sparkmagic) (0.30.0)\n",
      "Requirement already satisfied: rpds-py>=0.7.1 in c:\\users\\rnlay\\appdata\\local\\programs\\python\\python311\\lib\\site-packages (from jsonschema>=4.17.3->jupyterlab-server<3,>=2.22.1->notebook>=4.2->sparkmagic) (0.9.2)\n",
      "Requirement already satisfied: python-json-logger>=2.0.4 in c:\\users\\rnlay\\appdata\\local\\programs\\python\\python311\\lib\\site-packages (from jupyter-events>=0.6.0->jupyter-server<3,>=2.4.0->notebook>=4.2->sparkmagic) (2.0.7)\n",
      "Requirement already satisfied: pyyaml>=5.3 in c:\\users\\rnlay\\appdata\\local\\programs\\python\\python311\\lib\\site-packages (from jupyter-events>=0.6.0->jupyter-server<3,>=2.4.0->notebook>=4.2->sparkmagic) (6.0.1)\n",
      "Requirement already satisfied: rfc3339-validator in c:\\users\\rnlay\\appdata\\local\\programs\\python\\python311\\lib\\site-packages (from jupyter-events>=0.6.0->jupyter-server<3,>=2.4.0->notebook>=4.2->sparkmagic) (0.1.4)\n",
      "Requirement already satisfied: rfc3986-validator>=0.1.1 in c:\\users\\rnlay\\appdata\\local\\programs\\python\\python311\\lib\\site-packages (from jupyter-events>=0.6.0->jupyter-server<3,>=2.4.0->notebook>=4.2->sparkmagic) (0.1.1)\n",
      "Requirement already satisfied: beautifulsoup4 in c:\\users\\rnlay\\appdata\\local\\programs\\python\\python311\\lib\\site-packages (from nbconvert->jupyter>=1->hdijupyterutils>=0.6->sparkmagic) (4.12.2)\n",
      "Requirement already satisfied: bleach!=5.0.0 in c:\\users\\rnlay\\appdata\\local\\programs\\python\\python311\\lib\\site-packages (from nbconvert->jupyter>=1->hdijupyterutils>=0.6->sparkmagic) (6.0.0)\n",
      "Requirement already satisfied: defusedxml in c:\\users\\rnlay\\appdata\\local\\programs\\python\\python311\\lib\\site-packages (from nbconvert->jupyter>=1->hdijupyterutils>=0.6->sparkmagic) (0.7.1)\n",
      "Requirement already satisfied: jupyterlab-pygments in c:\\users\\rnlay\\appdata\\local\\programs\\python\\python311\\lib\\site-packages (from nbconvert->jupyter>=1->hdijupyterutils>=0.6->sparkmagic) (0.2.2)\n",
      "Requirement already satisfied: mistune<4,>=2.0.3 in c:\\users\\rnlay\\appdata\\local\\programs\\python\\python311\\lib\\site-packages (from nbconvert->jupyter>=1->hdijupyterutils>=0.6->sparkmagic) (3.0.1)\n",
      "Requirement already satisfied: nbclient>=0.5.0 in c:\\users\\rnlay\\appdata\\local\\programs\\python\\python311\\lib\\site-packages (from nbconvert->jupyter>=1->hdijupyterutils>=0.6->sparkmagic) (0.8.0)\n",
      "Requirement already satisfied: pandocfilters>=1.4.1 in c:\\users\\rnlay\\appdata\\local\\programs\\python\\python311\\lib\\site-packages (from nbconvert->jupyter>=1->hdijupyterutils>=0.6->sparkmagic) (1.5.0)\n",
      "Requirement already satisfied: tinycss2 in c:\\users\\rnlay\\appdata\\local\\programs\\python\\python311\\lib\\site-packages (from nbconvert->jupyter>=1->hdijupyterutils>=0.6->sparkmagic) (1.2.1)\n",
      "Requirement already satisfied: fastjsonschema in c:\\users\\rnlay\\appdata\\local\\programs\\python\\python311\\lib\\site-packages (from nbformat>=5.3.0->jupyter-server<3,>=2.4.0->notebook>=4.2->sparkmagic) (2.18.0)\n",
      "Requirement already satisfied: argon2-cffi-bindings in c:\\users\\rnlay\\appdata\\local\\programs\\python\\python311\\lib\\site-packages (from argon2-cffi->jupyter-server<3,>=2.4.0->notebook>=4.2->sparkmagic) (21.2.0)\n",
      "Requirement already satisfied: ipython-genutils in c:\\users\\rnlay\\appdata\\local\\programs\\python\\python311\\lib\\site-packages (from qtconsole->jupyter>=1->hdijupyterutils>=0.6->sparkmagic) (0.2.0)\n",
      "Requirement already satisfied: qtpy>=2.0.1 in c:\\users\\rnlay\\appdata\\local\\programs\\python\\python311\\lib\\site-packages (from qtconsole->jupyter>=1->hdijupyterutils>=0.6->sparkmagic) (2.3.1)\n",
      "Requirement already satisfied: webencodings in c:\\users\\rnlay\\appdata\\local\\programs\\python\\python311\\lib\\site-packages (from bleach!=5.0.0->nbconvert->jupyter>=1->hdijupyterutils>=0.6->sparkmagic) (0.5.1)\n",
      "Requirement already satisfied: fqdn in c:\\users\\rnlay\\appdata\\local\\programs\\python\\python311\\lib\\site-packages (from jsonschema[format-nongpl]>=3.2.0->jupyter-events>=0.6.0->jupyter-server<3,>=2.4.0->notebook>=4.2->sparkmagic) (1.5.1)\n",
      "Requirement already satisfied: isoduration in c:\\users\\rnlay\\appdata\\local\\programs\\python\\python311\\lib\\site-packages (from jsonschema[format-nongpl]>=3.2.0->jupyter-events>=0.6.0->jupyter-server<3,>=2.4.0->notebook>=4.2->sparkmagic) (20.11.0)\n",
      "Requirement already satisfied: jsonpointer>1.13 in c:\\users\\rnlay\\appdata\\local\\programs\\python\\python311\\lib\\site-packages (from jsonschema[format-nongpl]>=3.2.0->jupyter-events>=0.6.0->jupyter-server<3,>=2.4.0->notebook>=4.2->sparkmagic) (2.4)\n",
      "Requirement already satisfied: uri-template in c:\\users\\rnlay\\appdata\\local\\programs\\python\\python311\\lib\\site-packages (from jsonschema[format-nongpl]>=3.2.0->jupyter-events>=0.6.0->jupyter-server<3,>=2.4.0->notebook>=4.2->sparkmagic) (1.3.0)\n",
      "Requirement already satisfied: webcolors>=1.11 in c:\\users\\rnlay\\appdata\\local\\programs\\python\\python311\\lib\\site-packages (from jsonschema[format-nongpl]>=3.2.0->jupyter-events>=0.6.0->jupyter-server<3,>=2.4.0->notebook>=4.2->sparkmagic) (1.13)\n",
      "Requirement already satisfied: soupsieve>1.2 in c:\\users\\rnlay\\appdata\\local\\programs\\python\\python311\\lib\\site-packages (from beautifulsoup4->nbconvert->jupyter>=1->hdijupyterutils>=0.6->sparkmagic) (2.4.1)\n",
      "Requirement already satisfied: arrow>=0.15.0 in c:\\users\\rnlay\\appdata\\local\\programs\\python\\python311\\lib\\site-packages (from isoduration->jsonschema[format-nongpl]>=3.2.0->jupyter-events>=0.6.0->jupyter-server<3,>=2.4.0->notebook>=4.2->sparkmagic) (1.2.3)\n",
      "Note: you may need to restart the kernel to use updated packages.\n"
     ]
    },
    {
     "name": "stderr",
     "output_type": "stream",
     "text": [
      "\n",
      "[notice] A new release of pip is available: 23.3.1 -> 24.0\n",
      "[notice] To update, run: python.exe -m pip install --upgrade pip\n"
     ]
    }
   ],
   "source": [
    "pip install sparkmagic"
   ]
  },
  {
   "cell_type": "code",
   "execution_count": 2,
   "id": "9299d631",
   "metadata": {},
   "outputs": [
    {
     "data": {
      "text/html": [
       "\n",
       "            <div>\n",
       "                <p><b>SparkSession - in-memory</b></p>\n",
       "                \n",
       "        <div>\n",
       "            <p><b>SparkContext</b></p>\n",
       "\n",
       "            <p><a href=\"http://DESKTOP-N2KSE8B:4040\">Spark UI</a></p>\n",
       "\n",
       "            <dl>\n",
       "              <dt>Version</dt>\n",
       "                <dd><code>v3.5.0</code></dd>\n",
       "              <dt>Master</dt>\n",
       "                <dd><code>local[*]</code></dd>\n",
       "              <dt>AppName</dt>\n",
       "                <dd><code>spark-dataframe</code></dd>\n",
       "            </dl>\n",
       "        </div>\n",
       "        \n",
       "            </div>\n",
       "        "
      ],
      "text/plain": [
       "<pyspark.sql.session.SparkSession at 0x2926c82edd0>"
      ]
     },
     "execution_count": 2,
     "metadata": {},
     "output_type": "execute_result"
    }
   ],
   "source": [
    "%load_ext sparkmagic.magics\n",
    "\n",
    "from pyspark.sql import SparkSession\n",
    "spark = SparkSession.builder.appName(\"spark-dataframe\").getOrCreate()\n",
    "spark"
   ]
  },
  {
   "cell_type": "code",
   "execution_count": 3,
   "id": "62d783f1-80fe-4a2a-9dca-2b4c434f038c",
   "metadata": {},
   "outputs": [
    {
     "name": "stdout",
     "output_type": "stream",
     "text": [
      "+-----------+--------+------+--------------------+------+----+-----+-----+----------------+-------+-----+--------+\n",
      "|PassengerId|Survived|Pclass|                Name|   Sex| Age|SibSp|Parch|          Ticket|   Fare|Cabin|Embarked|\n",
      "+-----------+--------+------+--------------------+------+----+-----+-----+----------------+-------+-----+--------+\n",
      "|          1|       0|     3|Braund, Mr. Owen ...|  male|22.0|    1|    0|       A/5 21171|   7.25| NULL|       S|\n",
      "|          2|       1|     1|Cumings, Mrs. Joh...|female|38.0|    1|    0|        PC 17599|71.2833|  C85|       C|\n",
      "|          3|       1|     3|Heikkinen, Miss. ...|female|26.0|    0|    0|STON/O2. 3101282|  7.925| NULL|       S|\n",
      "+-----------+--------+------+--------------------+------+----+-----+-----+----------------+-------+-----+--------+\n",
      "only showing top 3 rows\n",
      "\n"
     ]
    }
   ],
   "source": [
    "filepath = \"titanic_train.csv\"\n",
    "\n",
    "# inferSchema=True: 컬럼 타입을 자동 추론\n",
    "titanic_sdf = spark.read.csv(filepath, inferSchema=True, header=True)\n",
    "titanic_sdf.show(3)"
   ]
  },
  {
   "cell_type": "code",
   "execution_count": 4,
   "id": "b663e3d3-5e09-4a03-9f67-3e2b0f060737",
   "metadata": {},
   "outputs": [],
   "source": [
    "import pyspark.sql.functions as F"
   ]
  },
  {
   "cell_type": "code",
   "execution_count": 5,
   "id": "0eb5a8d7-83c3-4728-a578-fb5305654a6e",
   "metadata": {},
   "outputs": [
    {
     "name": "stdout",
     "output_type": "stream",
     "text": [
      "root\n",
      " |-- PassengerId: integer (nullable = true)\n",
      " |-- Survived: integer (nullable = true)\n",
      " |-- Pclass: integer (nullable = true)\n",
      " |-- Name: string (nullable = true)\n",
      " |-- Sex: string (nullable = true)\n",
      " |-- Age: double (nullable = true)\n",
      " |-- SibSp: integer (nullable = true)\n",
      " |-- Parch: integer (nullable = true)\n",
      " |-- Ticket: string (nullable = true)\n",
      " |-- Fare: double (nullable = true)\n",
      " |-- Cabin: string (nullable = true)\n",
      " |-- Embarked: string (nullable = true)\n",
      "\n"
     ]
    }
   ],
   "source": [
    "titanic_sdf.printSchema()"
   ]
  },
  {
   "cell_type": "code",
   "execution_count": 6,
   "id": "a3f03840-2d49-46ad-9ab8-cdf77d969ce4",
   "metadata": {},
   "outputs": [
    {
     "name": "stdout",
     "output_type": "stream",
     "text": [
      "root\n",
      " |-- PassengerId: integer (nullable = true)\n",
      " |-- Survived: integer (nullable = true)\n",
      " |-- Pclass: integer (nullable = true)\n",
      " |-- Sex: string (nullable = true)\n",
      " |-- Age: double (nullable = true)\n",
      " |-- SibSp: integer (nullable = true)\n",
      " |-- Parch: integer (nullable = true)\n",
      " |-- Fare: double (nullable = true)\n",
      " |-- Embarked: string (nullable = true)\n",
      "\n"
     ]
    }
   ],
   "source": [
    "# 이름, 티켓, 객실번호 컬럼 제외\n",
    "df = titanic_sdf.drop(F.col(\"Name\"))\n",
    "df = df.drop(F.col(\"Ticket\"))\n",
    "df = df.drop(F.col(\"Cabin\"))\n",
    "df.printSchema()"
   ]
  },
  {
   "cell_type": "code",
   "execution_count": 7,
   "id": "c79d189c-858c-42b6-a878-034cae0bdae8",
   "metadata": {},
   "outputs": [
    {
     "name": "stdout",
     "output_type": "stream",
     "text": [
      "+--------+--------+--------+------+----+-------------+-----------+-------+--------+\n",
      "|승객번호|생존여부|좌석등급|  성별|나이|형제,배우자수|부모,자녀수|   요금|탑승항구|\n",
      "+--------+--------+--------+------+----+-------------+-----------+-------+--------+\n",
      "|       1|       0|       3|  male|22.0|            1|          0|   7.25|       S|\n",
      "|       2|       1|       1|female|38.0|            1|          0|71.2833|       C|\n",
      "|       3|       1|       3|female|26.0|            0|          0|  7.925|       S|\n",
      "|       4|       1|       1|female|35.0|            1|          0|   53.1|       S|\n",
      "|       5|       0|       3|  male|35.0|            0|          0|   8.05|       S|\n",
      "+--------+--------+--------+------+----+-------------+-----------+-------+--------+\n",
      "only showing top 5 rows\n",
      "\n"
     ]
    }
   ],
   "source": [
    "# 컬럼명 변경\n",
    "df = df.withColumnRenamed(\"PassengerId\", \"승객번호\")\n",
    "df = df.withColumnRenamed(\"Survived\", \"생존여부\")\n",
    "df = df.withColumnRenamed(\"Pclass\", \"좌석등급\")\n",
    "df = df.withColumnRenamed(\"Sex\", \"성별\")\n",
    "df = df.withColumnRenamed(\"Age\", \"나이\")\n",
    "df = df.withColumnRenamed(\"SibSp\", \"형제,배우자수\")\n",
    "df = df.withColumnRenamed(\"Parch\", \"부모,자녀수\")\n",
    "df = df.withColumnRenamed(\"Fare\", \"요금\")\n",
    "df = df.withColumnRenamed(\"Embarked\", \"탑승항구\")\n",
    "\n",
    "df.show(5)"
   ]
  },
  {
   "cell_type": "code",
   "execution_count": 8,
   "id": "742702cb-48b1-4b72-8fd9-39ef57548d2e",
   "metadata": {},
   "outputs": [
    {
     "name": "stdout",
     "output_type": "stream",
     "text": [
      "+--------+--------+--------+----+----+-------------+-----------+-------+----------+\n",
      "|승객번호|생존여부|좌석등급|성별|나이|형제,배우자수|부모,자녀수|   요금|  탑승항구|\n",
      "+--------+--------+--------+----+----+-------------+-----------+-------+----------+\n",
      "|       1|       0|       3|  남|22.0|            1|          0|   7.25|사우스햄튼|\n",
      "|       2|       1|       1|  여|38.0|            1|          0|71.2833|  셰르부르|\n",
      "|       3|       1|       3|  여|26.0|            0|          0|  7.925|사우스햄튼|\n",
      "|       4|       1|       1|  여|35.0|            1|          0|   53.1|사우스햄튼|\n",
      "|       5|       0|       3|  남|35.0|            0|          0|   8.05|사우스햄튼|\n",
      "+--------+--------+--------+----+----+-------------+-----------+-------+----------+\n",
      "only showing top 5 rows\n",
      "\n"
     ]
    }
   ],
   "source": [
    "# otherwise(F.col()): 해당 데이터가 없어도 null로 변환하지 않게 함\n",
    "df = df.withColumn(\"탑승항구\", F.when(F.col(\"탑승항구\") == \"S\", \"사우스햄튼\").otherwise(F.col(\"탑승항구\")))\n",
    "df = df.withColumn(\"탑승항구\", F.when(F.col(\"탑승항구\") == \"C\", \"셰르부르\").otherwise(F.col(\"탑승항구\")))\n",
    "df = df.withColumn(\"탑승항구\", F.when(F.col(\"탑승항구\") == \"Q\", \"퀸즈타운\").otherwise(F.col(\"탑승항구\")))\n",
    "df = df.withColumn(\"성별\", F.when(F.col(\"성별\") == \"male\", \"남\").otherwise(F.col(\"성별\")))\n",
    "df = df.withColumn(\"성별\", F.when(F.col(\"성별\") == \"female\", \"여\").otherwise(F.col(\"성별\")))\n",
    "\n",
    "df.show(5)"
   ]
  },
  {
   "cell_type": "code",
   "execution_count": 9,
   "id": "bb7096d5",
   "metadata": {},
   "outputs": [
    {
     "name": "stdout",
     "output_type": "stream",
     "text": [
      "+--------+--------+--------+----+----+-------------+-----------+-------+----------+\n",
      "|승객번호|생존여부|좌석등급|성별|나이|형제,배우자수|부모,자녀수|   요금|  탑승항구|\n",
      "+--------+--------+--------+----+----+-------------+-----------+-------+----------+\n",
      "|       1|       0|       3|  남|22.0|            1|          0|   7.25|사우스햄튼|\n",
      "|       2|       1|       1|  여|38.0|            1|          0|71.2833|  셰르부르|\n",
      "|       3|       1|       3|  여|26.0|            0|          0|  7.925|사우스햄튼|\n",
      "|       4|       1|       1|  여|35.0|            1|          0|   53.1|사우스햄튼|\n",
      "|       5|       0|       3|  남|35.0|            0|          0|   8.05|사우스햄튼|\n",
      "+--------+--------+--------+----+----+-------------+-----------+-------+----------+\n",
      "only showing top 5 rows\n",
      "\n"
     ]
    }
   ],
   "source": [
    "# SQL로 불러올 수 있게 하는 코드\n",
    "df.createOrReplaceTempView(\"df\")\n",
    "\n",
    "query = \"\"\"\n",
    "select * from df\n",
    "\"\"\"\n",
    "spark.sql(query).show(5)"
   ]
  },
  {
   "cell_type": "markdown",
   "id": "be0fcad0-0454-43d7-8b54-9565d361a82c",
   "metadata": {},
   "source": [
    "# 전체 평균"
   ]
  },
  {
   "cell_type": "code",
   "execution_count": 10,
   "id": "93bcf5a5-b6f2-4eb0-b9e6-4de1cae1111d",
   "metadata": {},
   "outputs": [
    {
     "name": "stdout",
     "output_type": "stream",
     "text": [
      "+------------------+-----------------+-----------------+------------------+-------------------+----------------+\n",
      "|     avg(생존여부)|    avg(좌석등급)|        avg(나이)|avg(형제,배우자수)|   avg(부모,자녀수)|       avg(요금)|\n",
      "+------------------+-----------------+-----------------+------------------+-------------------+----------------+\n",
      "|0.3838383838383838|2.308641975308642|29.69911764705882|0.5230078563411896|0.38159371492704824|32.2042079685746|\n",
      "+------------------+-----------------+-----------------+------------------+-------------------+----------------+\n",
      "\n"
     ]
    }
   ],
   "source": [
    "df_mean = df.groupBy().agg(\n",
    "    F.mean(\"생존여부\"), F.mean(\"좌석등급\"), F.mean(\"나이\"), F.mean(\"형제,배우자수\"), F.mean(\"부모,자녀수\"), F.mean(\"요금\"))\n",
    "\n",
    "df_mean.show()"
   ]
  },
  {
   "cell_type": "code",
   "execution_count": 11,
   "id": "e7a687c1-ece5-4124-8505-2b375e1ca568",
   "metadata": {},
   "outputs": [
    {
     "name": "stdout",
     "output_type": "stream",
     "text": [
      "+------------------+------------------+----------------+----------------+---------+---------+\n",
      "|max(형제,배우자수)|min(형제,배우자수)|max(부모,자녀수)|min(부모,자녀수)|max(요금)|min(요금)|\n",
      "+------------------+------------------+----------------+----------------+---------+---------+\n",
      "|                 8|                 0|               6|               0| 512.3292|      0.0|\n",
      "+------------------+------------------+----------------+----------------+---------+---------+\n",
      "\n"
     ]
    }
   ],
   "source": [
    "# 전체 최대, 최소\n",
    "df_mm = df.groupBy().agg(\n",
    "    F.max(\"형제,배우자수\"), F.min(\"형제,배우자수\"), F.max(\"부모,자녀수\"), F.min(\"부모,자녀수\"), F.max(\"요금\"), F.min(\"요금\"))\n",
    "\n",
    "df_mm.show()"
   ]
  },
  {
   "cell_type": "code",
   "execution_count": 12,
   "id": "a42fcc54-f960-4a23-b617-9fc5ec73634d",
   "metadata": {},
   "outputs": [
    {
     "data": {
      "text/plain": [
       "80.0"
      ]
     },
     "execution_count": 12,
     "metadata": {},
     "output_type": "execute_result"
    }
   ],
   "source": [
    "# 최고 연령\n",
    "query = \"\"\"\n",
    "select max(`나이`) from df\n",
    "\"\"\"\n",
    "# z.show(spark.sql(query))\n",
    "spark.sql(query).collect()[0][0]"
   ]
  },
  {
   "cell_type": "code",
   "execution_count": 13,
   "id": "0ecb15e2-2e9b-4b6b-980a-636f8a2a919c",
   "metadata": {},
   "outputs": [
    {
     "name": "stdout",
     "output_type": "stream",
     "text": [
      "+--------+--------+--------+----+----+-------------+-----------+-------+----------+------+\n",
      "|승객번호|생존여부|좌석등급|성별|나이|형제,배우자수|부모,자녀수|   요금|  탑승항구|나이대|\n",
      "+--------+--------+--------+----+----+-------------+-----------+-------+----------+------+\n",
      "|       1|       0|       3|  남|22.0|            1|          0|   7.25|사우스햄튼|  20대|\n",
      "|       2|       1|       1|  여|38.0|            1|          0|71.2833|  셰르부르|  30대|\n",
      "|       3|       1|       3|  여|26.0|            0|          0|  7.925|사우스햄튼|  20대|\n",
      "|       4|       1|       1|  여|35.0|            1|          0|   53.1|사우스햄튼|  30대|\n",
      "|       5|       0|       3|  남|35.0|            0|          0|   8.05|사우스햄튼|  30대|\n",
      "+--------+--------+--------+----+----+-------------+-----------+-------+----------+------+\n",
      "only showing top 5 rows\n",
      "\n"
     ]
    }
   ],
   "source": [
    "# 나이대 만들기\n",
    "df_age = df.withColumn(\"나이대\", F.when(F.col(\"나이\") < 10, \"0대\")\n",
    "            .when((F.col(\"나이\") >= 10) & (F.col(\"나이\") < 20), \"10대\")\n",
    "            .when((F.col(\"나이\") >= 20) & (F.col(\"나이\") < 30), \"20대\")\n",
    "            .when((F.col(\"나이\") >= 30) & (F.col(\"나이\") < 40), \"30대\")\n",
    "            .when((F.col(\"나이\") >= 40) & (F.col(\"나이\") < 50), \"40대\")\n",
    "            .when((F.col(\"나이\") >= 50) & (F.col(\"나이\") < 60), \"50대\")\n",
    "            .when((F.col(\"나이\") >= 60) & (F.col(\"나이\") < 70), \"60대\")\n",
    "            .when((F.col(\"나이\") >= 70) & (F.col(\"나이\") < 80), \"70대\")\n",
    "            .when((F.col(\"나이\") >= 80) & (F.col(\"나이\") < 90), \"80대\").otherwise(\"null\"))\n",
    "\n",
    "df_age.show(5)"
   ]
  },
  {
   "cell_type": "code",
   "execution_count": 14,
   "id": "eb88a467-255e-422f-8fb5-d7f8be50746a",
   "metadata": {},
   "outputs": [],
   "source": [
    "df_age_0 = df_age.filter(F.col(\"나이대\") == \"0대\")\n",
    "df_age_10 = df_age.filter(F.col(\"나이대\") == \"10대\")\n",
    "df_age_20 = df_age.filter(F.col(\"나이대\") == \"20대\")\n",
    "df_age_30 = df_age.filter(F.col(\"나이대\") == \"30대\")\n",
    "df_age_40 = df_age.filter(F.col(\"나이대\") == \"40대\")\n",
    "df_age_50 = df_age.filter(F.col(\"나이대\") == \"50대\")\n",
    "df_age_60 = df_age.filter(F.col(\"나이대\") == \"60대\")\n",
    "df_age_70 = df_age.filter(F.col(\"나이대\") == \"70대\")\n",
    "df_age_80 = df_age.filter(F.col(\"나이대\") == \"80대\")"
   ]
  },
  {
   "cell_type": "code",
   "execution_count": 15,
   "id": "befe2e51-124a-49d0-8405-b41de182b92f",
   "metadata": {},
   "outputs": [
    {
     "name": "stdout",
     "output_type": "stream",
     "text": [
      "10세 미만: 62\n",
      "10대: 102\n",
      "20대: 220\n",
      "30대: 167\n",
      "40대: 89\n",
      "50대: 48\n",
      "60대: 19\n",
      "70대: 6\n",
      "80대: 1\n"
     ]
    }
   ],
   "source": [
    "print(\"10세 미만:\", df_age_0.count())\n",
    "print(\"10대:\", df_age_10.count())\n",
    "print(\"20대:\", df_age_20.count())\n",
    "print(\"30대:\", df_age_30.count())\n",
    "print(\"40대:\", df_age_40.count())\n",
    "print(\"50대:\", df_age_50.count())\n",
    "print(\"60대:\", df_age_60.count())\n",
    "print(\"70대:\", df_age_70.count())\n",
    "print(\"80대:\", df_age_80.count())"
   ]
  },
  {
   "cell_type": "code",
   "execution_count": 16,
   "id": "f64275d3-3a46-4cb3-b21e-acb5f14ae114",
   "metadata": {},
   "outputs": [
    {
     "name": "stdout",
     "output_type": "stream",
     "text": [
      "+------+-------------------+------------------+-------------------+-------------------+------------------+--------+\n",
      "|나이대|      avg(생존여부)|     avg(좌석등급)| avg(형제,배우자수)|   avg(부모,자녀수)|         avg(요금)|count(1)|\n",
      "+------+-------------------+------------------+-------------------+-------------------+------------------+--------+\n",
      "|  80대|                1.0|               1.0|                0.0|                0.0|              30.0|       1|\n",
      "|  20대|               0.35|              2.45|0.32272727272727275|               0.25|27.278937272727294|     220|\n",
      "|  50대| 0.4166666666666667|            1.5625| 0.2916666666666667| 0.2708333333333333| 47.93333333333334|      48|\n",
      "|  10대| 0.4019607843137255|2.4705882352941178| 0.6666666666666666|0.47058823529411764| 32.53513235294118|     102|\n",
      "|  70대|                0.0|1.8333333333333333|0.16666666666666666|0.16666666666666666|30.197233333333333|       6|\n",
      "|  40대|0.38202247191011235|1.9662921348314606| 0.3707865168539326|0.47191011235955055| 38.00229662921349|      89|\n",
      "|  60대| 0.3157894736842105|1.4736842105263157| 0.2631578947368421| 0.3684210526315789| 48.36754210526315|      19|\n",
      "|  30대|  0.437125748502994|2.1137724550898205| 0.3532934131736527|0.32934131736526945|40.377294011976055|     167|\n",
      "|   0대| 0.6129032258064516| 2.629032258064516| 1.8548387096774193|  1.403225806451613| 30.57667903225807|      62|\n",
      "|  null| 0.2937853107344633| 2.598870056497175| 0.5649717514124294| 0.1807909604519774|22.158566666666673|     177|\n",
      "+------+-------------------+------------------+-------------------+-------------------+------------------+--------+\n",
      "\n"
     ]
    }
   ],
   "source": [
    "df_age = df_age.groupBy(\"나이대\").agg(\n",
    "    F.mean(\"생존여부\"), F.mean(\"좌석등급\"), F.mean(\"형제,배우자수\"), F.mean(\"부모,자녀수\"), F.mean(\"요금\"),\n",
    "    F.count(\"*\")\n",
    ")\n",
    "    \n",
    "df_age.show()"
   ]
  },
  {
   "cell_type": "code",
   "execution_count": 17,
   "id": "81405b40-30b9-4615-9a86-003f4fed14b9",
   "metadata": {},
   "outputs": [
    {
     "name": "stdout",
     "output_type": "stream",
     "text": [
      "+------+------+------------+-----------------+---------------+--------+------+\n",
      "|나이대|생존률|좌석등급평균|형제,배우자수평균|부모,자녀수평균|요금평균|인원수|\n",
      "+------+------+------------+-----------------+---------------+--------+------+\n",
      "|   0대|  0.61|        2.63|             1.85|            1.4|   30.58|    62|\n",
      "|  10대|   0.4|        2.47|             0.67|           0.47|   32.54|   102|\n",
      "|  20대|  0.35|        2.45|             0.32|           0.25|   27.28|   220|\n",
      "|  30대|  0.44|        2.11|             0.35|           0.33|   40.38|   167|\n",
      "|  40대|  0.38|        1.97|             0.37|           0.47|    38.0|    89|\n",
      "|  50대|  0.42|        1.56|             0.29|           0.27|   47.93|    48|\n",
      "|  60대|  0.32|        1.47|             0.26|           0.37|   48.37|    19|\n",
      "|  70대|   0.0|        1.83|             0.17|           0.17|    30.2|     6|\n",
      "|  80대|   1.0|         1.0|              0.0|            0.0|    30.0|     1|\n",
      "|  null|  0.29|         2.6|             0.56|           0.18|   22.16|   177|\n",
      "+------+------+------------+-----------------+---------------+--------+------+\n",
      "\n"
     ]
    }
   ],
   "source": [
    "from pyspark.sql.functions import round\n",
    "\n",
    "# 컬럼명 변경\n",
    "df_age2 = df_age.withColumnRenamed(\"avg(생존여부)\", \"생존률\")\n",
    "df_age2 = df_age2.withColumnRenamed(\"avg(좌석등급)\", \"좌석등급평균\")\n",
    "df_age2 = df_age2.withColumnRenamed(\"avg(형제,배우자수)\", \"형제,배우자수평균\")\n",
    "df_age2 = df_age2.withColumnRenamed(\"avg(부모,자녀수)\", \"부모,자녀수평균\")\n",
    "df_age2 = df_age2.withColumnRenamed(\"avg(요금)\", \"요금평균\")\n",
    "df_age2 = df_age2.withColumnRenamed(\"count(1)\", \"인원수\")\n",
    "\n",
    "# 반올림\n",
    "df_age2 = df_age2.withColumn(\"생존률\", round(df_age2[\"생존률\"], 2))\n",
    "df_age2 = df_age2.withColumn(\"좌석등급평균\", round(df_age2[\"좌석등급평균\"], 2))\n",
    "df_age2 = df_age2.withColumn(\"형제,배우자수평균\", round(df_age2[\"형제,배우자수평균\"], 2))\n",
    "df_age2 = df_age2.withColumn(\"부모,자녀수평균\", round(df_age2[\"부모,자녀수평균\"], 2))\n",
    "df_age2 = df_age2.withColumn(\"요금평균\", round(df_age2[\"요금평균\"], 2))\n",
    "\n",
    "df_age2 = df_age2.orderBy(\"나이대\")\n",
    "df_age2.show()"
   ]
  },
  {
   "cell_type": "markdown",
   "id": "2aba1770-05c0-4f34-928d-9798a820fb0c",
   "metadata": {},
   "source": [
    "## 나이 불명"
   ]
  },
  {
   "cell_type": "code",
   "execution_count": 18,
   "id": "07f982ee-f05a-441d-ba37-604e9f5ed813",
   "metadata": {},
   "outputs": [
    {
     "name": "stdout",
     "output_type": "stream",
     "text": [
      "+--------+--------+--------+----+----+-------------+-----------+--------+----------+\n",
      "|승객번호|생존여부|좌석등급|성별|나이|형제,배우자수|부모,자녀수|    요금|  탑승항구|\n",
      "+--------+--------+--------+----+----+-------------+-----------+--------+----------+\n",
      "|       6|       0|       3|  남|NULL|            0|          0|  8.4583|  퀸즈타운|\n",
      "|      18|       1|       2|  남|NULL|            0|          0|    13.0|사우스햄튼|\n",
      "|      20|       1|       3|  여|NULL|            0|          0|   7.225|  셰르부르|\n",
      "|      27|       0|       3|  남|NULL|            0|          0|   7.225|  셰르부르|\n",
      "|      29|       1|       3|  여|NULL|            0|          0|  7.8792|  퀸즈타운|\n",
      "|      30|       0|       3|  남|NULL|            0|          0|  7.8958|사우스햄튼|\n",
      "|      32|       1|       1|  여|NULL|            1|          0|146.5208|  셰르부르|\n",
      "|      33|       1|       3|  여|NULL|            0|          0|    7.75|  퀸즈타운|\n",
      "|      37|       1|       3|  남|NULL|            0|          0|  7.2292|  셰르부르|\n",
      "|      43|       0|       3|  남|NULL|            0|          0|  7.8958|  셰르부르|\n",
      "+--------+--------+--------+----+----+-------------+-----------+--------+----------+\n",
      "only showing top 10 rows\n",
      "\n",
      "나이 불명: 177 명\n"
     ]
    }
   ],
   "source": [
    "query = \"\"\"\n",
    "select *\n",
    "from df\n",
    "where `나이` is null\n",
    "\"\"\"\n",
    "spark.sql(query).show(10)\n",
    "\n",
    "query2 = \"\"\"\n",
    "select count(*)\n",
    "from df\n",
    "where `나이` is null\n",
    "\"\"\"\n",
    "print(f\"나이 불명: {spark.sql(query2).collect()[0][0]} 명\")"
   ]
  },
  {
   "cell_type": "code",
   "execution_count": 19,
   "id": "c4ec636a-f9a5-4751-9663-7d0e7e2147e6",
   "metadata": {},
   "outputs": [
    {
     "name": "stdout",
     "output_type": "stream",
     "text": [
      "+--------+--------+--------+----+----+-------------+-----------+------+----------+\n",
      "|승객번호|생존여부|좌석등급|성별|나이|형제,배우자수|부모,자녀수|  요금|  탑승항구|\n",
      "+--------+--------+--------+----+----+-------------+-----------+------+----------+\n",
      "|       6|       0|       3|  남|NULL|            0|          0|8.4583|  퀸즈타운|\n",
      "|      18|       1|       2|  남|NULL|            0|          0|  13.0|사우스햄튼|\n",
      "|      20|       1|       3|  여|NULL|            0|          0| 7.225|  셰르부르|\n",
      "|      27|       0|       3|  남|NULL|            0|          0| 7.225|  셰르부르|\n",
      "|      29|       1|       3|  여|NULL|            0|          0|7.8792|  퀸즈타운|\n",
      "+--------+--------+--------+----+----+-------------+-----------+------+----------+\n",
      "only showing top 5 rows\n",
      "\n"
     ]
    }
   ],
   "source": [
    "df_null = df.filter(F.col(\"나이\").isNull())\n",
    "df_null.show(5)"
   ]
  },
  {
   "cell_type": "code",
   "execution_count": 20,
   "id": "cdf6eca4-e75e-4931-8ed4-7349702a4309",
   "metadata": {},
   "outputs": [
    {
     "name": "stdout",
     "output_type": "stream",
     "text": [
      "+----+------+------------+-----------------+---------------+--------+\n",
      "|나이|생존률|좌석등급평균|형제,배우자수평균|부모,자녀수평균|요금평균|\n",
      "+----+------+------------+-----------------+---------------+--------+\n",
      "|NULL|  0.29|         2.6|             0.56|           0.18|   22.16|\n",
      "+----+------+------------+-----------------+---------------+--------+\n",
      "\n"
     ]
    }
   ],
   "source": [
    "df_null = df_null.groupBy(\"나이\").agg(\n",
    "    F.mean(\"생존여부\"), F.mean(\"좌석등급\"), F.mean(\"형제,배우자수\"), F.mean(\"부모,자녀수\"), F.mean(\"요금\"))\n",
    "\n",
    "# 컬럼명 변경\n",
    "df_null = df_null.withColumnRenamed(\"avg(생존여부)\", \"생존률\")\n",
    "df_null = df_null.withColumnRenamed(\"avg(좌석등급)\", \"좌석등급평균\")\n",
    "df_null = df_null.withColumnRenamed(\"avg(형제,배우자수)\", \"형제,배우자수평균\")\n",
    "df_null = df_null.withColumnRenamed(\"avg(부모,자녀수)\", \"부모,자녀수평균\")\n",
    "df_null = df_null.withColumnRenamed(\"avg(요금)\", \"요금평균\")\n",
    "\n",
    "# 반올림\n",
    "# F.mean으로 집계한 데이터기 때문에 [ df_null.withColumn(\"생존률\", round(df_null[\"생존률\"], 2)) ]로 작성하지 않아도 됨\n",
    "df_null = df_null.withColumn(\"생존률\", round(\"생존률\", 2))\n",
    "df_null = df_null.withColumn(\"좌석등급평균\", round(\"좌석등급평균\", 2))\n",
    "df_null = df_null.withColumn(\"형제,배우자수평균\", round(\"형제,배우자수평균\", 2))\n",
    "df_null = df_null.withColumn(\"부모,자녀수평균\", round(\"부모,자녀수평균\", 2))\n",
    "df_null = df_null.withColumn(\"요금평균\", round(\"요금평균\", 2))\n",
    "\n",
    "df_null.show()"
   ]
  },
  {
   "cell_type": "markdown",
   "id": "49a90a5d-4a8e-4662-a3e6-67ef0ba53e3b",
   "metadata": {},
   "source": [
    "## 탑승항구"
   ]
  },
  {
   "cell_type": "code",
   "execution_count": 21,
   "id": "a82d321d-3e8b-486b-9881-1730c6ca49e3",
   "metadata": {},
   "outputs": [
    {
     "name": "stdout",
     "output_type": "stream",
     "text": [
      "+----------+-------------------+------------------+-------------------+-------------------+------------------+\n",
      "|  탑승항구|      avg(생존여부)|     avg(좌석등급)| avg(형제,배우자수)|   avg(부모,자녀수)|         avg(요금)|\n",
      "+----------+-------------------+------------------+-------------------+-------------------+------------------+\n",
      "|사우스햄튼|0.33695652173913043|2.3509316770186337| 0.5714285714285714|0.41304347826086957| 27.07981180124218|\n",
      "|      NULL|                1.0|               1.0|                0.0|                0.0|              80.0|\n",
      "|  셰르부르| 0.5535714285714286|1.8869047619047619| 0.3869047619047619| 0.3630952380952381| 59.95414404761905|\n",
      "|  퀸즈타운|0.38961038961038963| 2.909090909090909|0.42857142857142855|0.16883116883116883|13.276029870129872|\n",
      "+----------+-------------------+------------------+-------------------+-------------------+------------------+\n",
      "\n"
     ]
    }
   ],
   "source": [
    "# Embarked\n",
    "df_emb = df.groupBy(\"탑승항구\").agg(\n",
    "    F.mean(\"생존여부\"), F.mean(\"좌석등급\"), F.mean(\"형제,배우자수\"), F.mean(\"부모,자녀수\"), F.mean(\"요금\"))\n",
    "\n",
    "df_emb.show()"
   ]
  },
  {
   "cell_type": "code",
   "execution_count": 22,
   "id": "055b423a-0953-4152-ad51-09d4ab57f5b2",
   "metadata": {},
   "outputs": [
    {
     "name": "stdout",
     "output_type": "stream",
     "text": [
      "+----------+-------------------+------------------+-------------------+-------------------+------------------+\n",
      "|  탑승항구|      avg(생존여부)|     avg(좌석등급)| avg(형제,배우자수)|   avg(부모,자녀수)|         avg(요금)|\n",
      "+----------+-------------------+------------------+-------------------+-------------------+------------------+\n",
      "|      NULL|                1.0|               1.0|                0.0|                0.0|              80.0|\n",
      "|사우스햄튼|0.33695652173913043|2.3509316770186337| 0.5714285714285714|0.41304347826086957| 27.07981180124218|\n",
      "|  셰르부르| 0.5535714285714286|1.8869047619047619| 0.3869047619047619| 0.3630952380952381| 59.95414404761905|\n",
      "|  퀸즈타운|0.38961038961038963| 2.909090909090909|0.42857142857142855|0.16883116883116883|13.276029870129872|\n",
      "+----------+-------------------+------------------+-------------------+-------------------+------------------+\n",
      "\n"
     ]
    }
   ],
   "source": [
    "# sql로 실행\n",
    "df_emb.createOrReplaceTempView(\"df_emb\")\n",
    "\n",
    "query = \"\"\"\n",
    "select * from df_emb\n",
    "order by `탑승항구`\n",
    "\"\"\"\n",
    "\n",
    "spark.sql(query).show()"
   ]
  },
  {
   "cell_type": "code",
   "execution_count": 23,
   "id": "b91eb46e-e662-47ee-b557-9b2014993776",
   "metadata": {},
   "outputs": [],
   "source": [
    "spark.stop()"
   ]
  },
  {
   "cell_type": "code",
   "execution_count": null,
   "id": "b66d5bfe-e121-4ef5-8e07-5438a95ddcb7",
   "metadata": {},
   "outputs": [],
   "source": []
  }
 ],
 "metadata": {
  "kernelspec": {
   "display_name": "Python 3 (ipykernel)",
   "language": "python",
   "name": "python3"
  },
  "language_info": {
   "codemirror_mode": {
    "name": "ipython",
    "version": 3
   },
   "file_extension": ".py",
   "mimetype": "text/x-python",
   "name": "python",
   "nbconvert_exporter": "python",
   "pygments_lexer": "ipython3",
   "version": "3.11.4"
  }
 },
 "nbformat": 4,
 "nbformat_minor": 5
}
